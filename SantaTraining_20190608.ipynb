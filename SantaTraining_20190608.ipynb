{
 "cells": [
  {
   "cell_type": "code",
   "execution_count": 1,
   "metadata": {},
   "outputs": [
    {
     "name": "stderr",
     "output_type": "stream",
     "text": [
      "C:\\USERS\\SHIHCHIN\\ANACONDA3\\ENVS\\TENSORFLOW\\lib\\site-packages\\h5py\\__init__.py:36: FutureWarning: Conversion of the second argument of issubdtype from `float` to `np.floating` is deprecated. In future, it will be treated as `np.float64 == np.dtype(float).type`.\n",
      "  from ._conv import register_converters as _register_converters\n",
      "Using TensorFlow backend.\n"
     ]
    }
   ],
   "source": [
    "# %load train_network.py\n",
    "# USAGE\n",
    "# python train_network.py --dataset images --model santa_not_santa.model\n",
    "\n",
    "# set the matplotlib backend so figures can be saved in the background\n",
    "import matplotlib\n",
    "matplotlib.use(\"Agg\")\n",
    "\n",
    "# import the necessary packages\n",
    "from keras.preprocessing.image import ImageDataGenerator\n",
    "from keras.optimizers import Adam\n",
    "from sklearn.model_selection import train_test_split\n",
    "from keras.preprocessing.image import img_to_array\n",
    "from keras.utils import to_categorical\n",
    "from pyimagesearch.lenet import LeNet\n",
    "from imutils import paths\n",
    "import matplotlib.pyplot as plt\n",
    "import numpy as np\n",
    "import argparse\n",
    "import random\n",
    "import cv2\n",
    "import os\n",
    "\n"
   ]
  },
  {
   "cell_type": "code",
   "execution_count": 2,
   "metadata": {},
   "outputs": [
    {
     "name": "stdout",
     "output_type": "stream",
     "text": [
      "[INFO] loading images...\n"
     ]
    }
   ],
   "source": [
    "# construct the argument parse and parse the arguments\n",
    "'''\n",
    "ap = argparse.ArgumentParser()\n",
    "ap.add_argument(\"-d\", \"--dataset\", required=True,\n",
    "\thelp=\"path to input dataset\")\n",
    "ap.add_argument(\"-m\", \"--model\", required=True,\n",
    "\thelp=\"path to output model\")\n",
    "ap.add_argument(\"-p\", \"--plot\", type=str, default=\"plot.png\",\n",
    "\thelp=\"path to output loss/accuracy plot\")\n",
    "args = vars(ap.parse_args())\n",
    "'''\n",
    "# initialize the number of epochs to train for, initia learning rate,\n",
    "# and batch size\n",
    "EPOCHS = 25\n",
    "INIT_LR = 1e-3\n",
    "BS = 32\n",
    "\n",
    "# initialize the data and labels\n",
    "print(\"[INFO] loading images...\")\n",
    "data = []\n",
    "labels = []\n",
    "\n",
    "# grab the image paths and randomly shuffle them\n",
    "imagePaths = sorted(list(paths.list_images('./images')))\n",
    "random.seed(42)\n",
    "random.shuffle(imagePaths)\n",
    "\n",
    "# loop over the input images\n",
    "for imagePath in imagePaths:\n",
    "\t# load the image, pre-process it, and store it in the data list\n",
    "\timage = cv2.imread(imagePath)\n",
    "\timage = cv2.resize(image, (28, 28))\n",
    "\timage = img_to_array(image)\n",
    "\tdata.append(image)\n",
    "\n",
    "\t# extract the class label from the image path and update the\n",
    "\t# labels list\n",
    "\tlabel = imagePath.split(os.path.sep)[-2]\n",
    "\tlabel = 1 if label == \"santa\" else 0\n",
    "\tlabels.append(label)\n",
    "\n",
    "# scale the raw pixel intensities to the range [0, 1]\n",
    "data = np.array(data, dtype=\"float\") / 255.0\n",
    "labels = np.array(labels)\n",
    "\n",
    "# partition the data into training and testing splits using 75% of\n",
    "# the data for training and the remaining 25% for testing\n",
    "(trainX, testX, trainY, testY) = train_test_split(data,\n",
    "\tlabels, test_size=0.25, random_state=42)\n",
    "\n",
    "# convert the labels from integers to vectors\n",
    "trainY = to_categorical(trainY, num_classes=2)\n",
    "testY = to_categorical(testY, num_classes=2)\n",
    "\n",
    "# construct the image generator for data augmentation\n",
    "aug = ImageDataGenerator(rotation_range=30, width_shift_range=0.1,\n",
    "\theight_shift_range=0.1, shear_range=0.2, zoom_range=0.2,\n",
    "\thorizontal_flip=True, fill_mode=\"nearest\")\n",
    "\n"
   ]
  },
  {
   "cell_type": "code",
   "execution_count": 3,
   "metadata": {},
   "outputs": [
    {
     "name": "stdout",
     "output_type": "stream",
     "text": [
      "[INFO] compiling model...\n",
      "WARNING:tensorflow:From C:\\USERS\\SHIHCHIN\\ANACONDA3\\ENVS\\TENSORFLOW\\lib\\site-packages\\tensorflow\\python\\framework\\op_def_library.py:263: colocate_with (from tensorflow.python.framework.ops) is deprecated and will be removed in a future version.\n",
      "Instructions for updating:\n",
      "Colocations handled automatically by placer.\n",
      "[INFO] training network...\n",
      "WARNING:tensorflow:From C:\\USERS\\SHIHCHIN\\ANACONDA3\\ENVS\\TENSORFLOW\\lib\\site-packages\\tensorflow\\python\\ops\\math_ops.py:3066: to_int32 (from tensorflow.python.ops.math_ops) is deprecated and will be removed in a future version.\n",
      "Instructions for updating:\n",
      "Use tf.cast instead.\n",
      "Epoch 1/25\n",
      "21/21 [==============================] - 3s 144ms/step - loss: 0.7071 - acc: 0.4955 - val_loss: 0.6414 - val_acc: 0.5238\n",
      "Epoch 2/25\n",
      "21/21 [==============================] - 3s 121ms/step - loss: 0.5698 - acc: 0.6848 - val_loss: 0.4330 - val_acc: 0.8658\n",
      "Epoch 3/25\n",
      "21/21 [==============================] - 2s 118ms/step - loss: 0.4245 - acc: 0.8323 - val_loss: 0.2071 - val_acc: 0.9264\n",
      "Epoch 4/25\n",
      "21/21 [==============================] - 2s 114ms/step - loss: 0.4079 - acc: 0.8255 - val_loss: 0.2843 - val_acc: 0.9048\n",
      "Epoch 5/25\n",
      "21/21 [==============================] - 2s 116ms/step - loss: 0.2797 - acc: 0.9052 - val_loss: 0.3204 - val_acc: 0.8831\n",
      "Epoch 6/25\n",
      "21/21 [==============================] - 2s 115ms/step - loss: 0.2312 - acc: 0.9132 - val_loss: 0.1618 - val_acc: 0.9437\n",
      "Epoch 7/25\n",
      "21/21 [==============================] - 2s 114ms/step - loss: 0.1945 - acc: 0.9266 - val_loss: 0.2516 - val_acc: 0.8961\n",
      "Epoch 8/25\n",
      "21/21 [==============================] - 2s 118ms/step - loss: 0.2279 - acc: 0.9028 - val_loss: 0.2238 - val_acc: 0.9048\n",
      "Epoch 9/25\n",
      "21/21 [==============================] - 3s 139ms/step - loss: 0.1554 - acc: 0.9464 - val_loss: 0.1443 - val_acc: 0.9481\n",
      "Epoch 10/25\n",
      "21/21 [==============================] - 3s 134ms/step - loss: 0.1528 - acc: 0.9404 - val_loss: 0.1061 - val_acc: 0.9654\n",
      "Epoch 11/25\n",
      "21/21 [==============================] - 3s 123ms/step - loss: 0.1723 - acc: 0.9325 - val_loss: 0.1733 - val_acc: 0.9394\n",
      "Epoch 12/25\n",
      "21/21 [==============================] - 3s 121ms/step - loss: 0.1555 - acc: 0.9340 - val_loss: 0.1542 - val_acc: 0.9481\n",
      "Epoch 13/25\n",
      "21/21 [==============================] - 3s 124ms/step - loss: 0.1999 - acc: 0.9167 - val_loss: 0.3950 - val_acc: 0.8701\n",
      "Epoch 14/25\n",
      "21/21 [==============================] - 3s 121ms/step - loss: 0.2014 - acc: 0.9097 - val_loss: 0.2853 - val_acc: 0.9004\n",
      "Epoch 15/25\n",
      "21/21 [==============================] - 2s 114ms/step - loss: 0.1363 - acc: 0.9380 - val_loss: 0.2374 - val_acc: 0.9177\n",
      "Epoch 16/25\n",
      "21/21 [==============================] - 2s 115ms/step - loss: 0.1197 - acc: 0.9494 - val_loss: 0.1467 - val_acc: 0.9524\n",
      "Epoch 17/25\n",
      "21/21 [==============================] - 2s 117ms/step - loss: 0.1442 - acc: 0.9424 - val_loss: 0.2211 - val_acc: 0.9307\n",
      "Epoch 18/25\n",
      "21/21 [==============================] - 3s 121ms/step - loss: 0.1680 - acc: 0.9336 - val_loss: 0.6785 - val_acc: 0.7619\n",
      "Epoch 19/25\n",
      "21/21 [==============================] - 3s 125ms/step - loss: 0.2043 - acc: 0.9132 - val_loss: 0.1700 - val_acc: 0.9437\n",
      "Epoch 20/25\n",
      "21/21 [==============================] - 3s 128ms/step - loss: 0.1238 - acc: 0.9543 - val_loss: 0.1441 - val_acc: 0.9567\n",
      "Epoch 21/25\n",
      "21/21 [==============================] - 3s 120ms/step - loss: 0.1347 - acc: 0.9420 - val_loss: 0.1235 - val_acc: 0.9610\n",
      "Epoch 22/25\n",
      "21/21 [==============================] - 3s 120ms/step - loss: 0.1281 - acc: 0.9479 - val_loss: 0.1579 - val_acc: 0.9524\n",
      "Epoch 23/25\n",
      "21/21 [==============================] - 2s 118ms/step - loss: 0.1441 - acc: 0.9405 - val_loss: 0.2403 - val_acc: 0.9221\n",
      "Epoch 24/25\n",
      "21/21 [==============================] - 3s 125ms/step - loss: 0.0885 - acc: 0.9687 - val_loss: 0.1725 - val_acc: 0.9394\n",
      "Epoch 25/25\n",
      "21/21 [==============================] - 3s 121ms/step - loss: 0.1169 - acc: 0.9568 - val_loss: 0.3604 - val_acc: 0.8658\n",
      "[INFO] serializing network...\n"
     ]
    }
   ],
   "source": [
    "# initialize the model\n",
    "print(\"[INFO] compiling model...\")\n",
    "model = LeNet.build(width=28, height=28, depth=3, classes=2)\n",
    "opt = Adam(lr=INIT_LR, decay=INIT_LR / EPOCHS)\n",
    "model.compile(loss=\"binary_crossentropy\", optimizer=opt,\n",
    "\tmetrics=[\"accuracy\"])\n",
    "\n",
    "# train the network\n",
    "print(\"[INFO] training network...\")\n",
    "H = model.fit_generator(aug.flow(trainX, trainY, batch_size=BS),\n",
    "\tvalidation_data=(testX, testY), steps_per_epoch=len(trainX) // BS,\n",
    "\tepochs=EPOCHS, verbose=1)\n",
    "\n",
    "# save the model to disk\n",
    "print(\"[INFO] serializing network...\")\n",
    "model.save('./santa_not_santa.model')\n",
    "\n"
   ]
  },
  {
   "cell_type": "code",
   "execution_count": 4,
   "metadata": {},
   "outputs": [
    {
     "name": "stdout",
     "output_type": "stream",
     "text": [
      "25\n"
     ]
    }
   ],
   "source": [
    "# plot the training loss and accuracy\n",
    "N = EPOCHS\n",
    "print(N)\n",
    "plt.plot(np.arange(0, N), H.history[\"loss\"], label=\"train_loss\")\n",
    "plt.plot(np.arange(0, N), H.history[\"val_loss\"], label=\"val_loss\")\n",
    "plt.plot(np.arange(0, N), H.history[\"acc\"], label=\"train_acc\")\n",
    "plt.plot(np.arange(0, N), H.history[\"val_acc\"], label=\"val_acc\")\n",
    "plt.title(\"Training Loss and Accuracy on Santa/Not Santa\")\n",
    "plt.xlabel(\"Epoch #\")\n",
    "plt.ylabel(\"Loss/Accuracy\")\n",
    "plt.legend(loc=\"lower left\")\n",
    "plt.show()\n",
    "#plt.savefig('plot.png')\n",
    "import matplotlib.pyplot as plt\n",
    "plt.figure()\n",
    "plt.plot([1, 2, 3, 4])\n",
    "plt.ylabel('some numbers')\n",
    "plt.show()\n",
    "plt.close()\n"
   ]
  },
  {
   "cell_type": "code",
   "execution_count": 5,
   "metadata": {},
   "outputs": [],
   "source": [
    "import matplotlib.pyplot as plt\n",
    "plt.figure()\n",
    "plt.plot([1, 2, 3, 4])\n",
    "plt.ylabel('some numbers')\n",
    "plt.show()"
   ]
  },
  {
   "cell_type": "code",
   "execution_count": null,
   "metadata": {},
   "outputs": [],
   "source": []
  }
 ],
 "metadata": {
  "kernelspec": {
   "display_name": "Python 3",
   "language": "python",
   "name": "python3"
  },
  "language_info": {
   "codemirror_mode": {
    "name": "ipython",
    "version": 3
   },
   "file_extension": ".py",
   "mimetype": "text/x-python",
   "name": "python",
   "nbconvert_exporter": "python",
   "pygments_lexer": "ipython3",
   "version": "3.5.5"
  }
 },
 "nbformat": 4,
 "nbformat_minor": 2
}
